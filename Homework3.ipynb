{
  "nbformat": 4,
  "nbformat_minor": 0,
  "metadata": {
    "colab": {
      "name": "Homework3.ipynb",
      "provenance": [],
      "collapsed_sections": [],
      "include_colab_link": true
    },
    "kernelspec": {
      "name": "python3",
      "display_name": "Python 3"
    },
    "language_info": {
      "name": "python"
    }
  },
  "cells": [
    {
      "cell_type": "markdown",
      "metadata": {
        "id": "view-in-github",
        "colab_type": "text"
      },
      "source": [
        "<a href=\"https://colab.research.google.com/github/zeynalli009/Datascience/blob/main/Homework3.ipynb\" target=\"_parent\"><img src=\"https://colab.research.google.com/assets/colab-badge.svg\" alt=\"Open In Colab\"/></a>"
      ]
    },
    {
      "cell_type": "code",
      "execution_count": 2,
      "metadata": {
        "id": "hTfxaTM5jqZY"
      },
      "outputs": [],
      "source": [
        "import pandas as pd\n",
        "import numpy as np\n",
        "import matplotlib.pyplot as plt\n",
        "import seaborn as sns"
      ]
    },
    {
      "cell_type": "code",
      "source": [
        "#Q1-Read the data https://raw.githubusercontent.com/ogut77/DataScience/main/data/diamond.csv\n",
        "data = pd.read_csv('https://raw.githubusercontent.com/ogut77/DataScience/main/data/diamond.csv')"
      ],
      "metadata": {
        "id": "T8jnje1Il-St"
      },
      "execution_count": 3,
      "outputs": []
    },
    {
      "cell_type": "markdown",
      "source": [
        "The description of dataset is given below.\n",
        "\n",
        "•\tID: Uniquely identifies each observation (diamond)\n",
        "\n",
        "•\tCarat Weight: The weight of the diamond in metric carats. One carat is equal to 0.2 grams, roughly the same weight as a paperclip\n",
        "\n",
        "•\tCut: One of five values indicating the cut of the diamond in the following order of desirability (Signature-Ideal, Ideal, Very Good, Good, Fair)\n",
        "\n",
        "•\tColor: One of six values indicating the diamond's color in the following order of desirability (D, E, F - Colorless, G, H, I - Near colorless)\n",
        "\n",
        "•\tClarity: One of seven values indicating the diamond's clarity in the following order of desirability (F - Flawless, IF - Internally Flawless, VVS1 or VVS2 - Very, Very Slightly Included, or VS1 or VS2 - Very Slightly Included, SI1 - Slightly Included)\n",
        "\n",
        "•\tPolish: One of four values indicating the diamond's polish (ID - Ideal, EX - Excellent, VG - Very Good, G - Good)\n",
        "\n",
        "•\tSymmetry: One of four values indicating the diamond's symmetry (ID - Ideal, EX - Excellent, VG - Very Good, G - Good)\n",
        "\n",
        "•\tReport: One of of two values \"AGSL\" or \"GIA\" indicating which grading agency reported the qualities of the diamond qualities\n",
        "\n",
        "•\tPrice: The The amount in USD that the diamond is valued\n"
      ],
      "metadata": {
        "id": "BuaIQNSwKfh7"
      }
    },
    {
      "cell_type": "code",
      "source": [
        "#Q2-Get first 2 rows of data\n",
        "data.head(2)"
      ],
      "metadata": {
        "colab": {
          "base_uri": "https://localhost:8080/",
          "height": 111
        },
        "id": "3tA-6vOnlW-V",
        "outputId": "96814601-79e0-4b5f-b1dc-eb8929b92c14"
      },
      "execution_count": 4,
      "outputs": [
        {
          "output_type": "execute_result",
          "data": {
            "text/html": [
              "\n",
              "  <div id=\"df-200a2e45-d03d-4de8-a249-90890652572e\">\n",
              "    <div class=\"colab-df-container\">\n",
              "      <div>\n",
              "<style scoped>\n",
              "    .dataframe tbody tr th:only-of-type {\n",
              "        vertical-align: middle;\n",
              "    }\n",
              "\n",
              "    .dataframe tbody tr th {\n",
              "        vertical-align: top;\n",
              "    }\n",
              "\n",
              "    .dataframe thead th {\n",
              "        text-align: right;\n",
              "    }\n",
              "</style>\n",
              "<table border=\"1\" class=\"dataframe\">\n",
              "  <thead>\n",
              "    <tr style=\"text-align: right;\">\n",
              "      <th></th>\n",
              "      <th>Carat Weight</th>\n",
              "      <th>Cut</th>\n",
              "      <th>Color</th>\n",
              "      <th>Clarity</th>\n",
              "      <th>Polish</th>\n",
              "      <th>Symmetry</th>\n",
              "      <th>Report</th>\n",
              "      <th>Price</th>\n",
              "    </tr>\n",
              "  </thead>\n",
              "  <tbody>\n",
              "    <tr>\n",
              "      <th>0</th>\n",
              "      <td>1.10</td>\n",
              "      <td>Ideal</td>\n",
              "      <td>H</td>\n",
              "      <td>SI1</td>\n",
              "      <td>VG</td>\n",
              "      <td>EX</td>\n",
              "      <td>GIA</td>\n",
              "      <td>5169</td>\n",
              "    </tr>\n",
              "    <tr>\n",
              "      <th>1</th>\n",
              "      <td>0.83</td>\n",
              "      <td>Ideal</td>\n",
              "      <td>H</td>\n",
              "      <td>VS1</td>\n",
              "      <td>ID</td>\n",
              "      <td>ID</td>\n",
              "      <td>AGSL</td>\n",
              "      <td>3470</td>\n",
              "    </tr>\n",
              "  </tbody>\n",
              "</table>\n",
              "</div>\n",
              "      <button class=\"colab-df-convert\" onclick=\"convertToInteractive('df-200a2e45-d03d-4de8-a249-90890652572e')\"\n",
              "              title=\"Convert this dataframe to an interactive table.\"\n",
              "              style=\"display:none;\">\n",
              "        \n",
              "  <svg xmlns=\"http://www.w3.org/2000/svg\" height=\"24px\"viewBox=\"0 0 24 24\"\n",
              "       width=\"24px\">\n",
              "    <path d=\"M0 0h24v24H0V0z\" fill=\"none\"/>\n",
              "    <path d=\"M18.56 5.44l.94 2.06.94-2.06 2.06-.94-2.06-.94-.94-2.06-.94 2.06-2.06.94zm-11 1L8.5 8.5l.94-2.06 2.06-.94-2.06-.94L8.5 2.5l-.94 2.06-2.06.94zm10 10l.94 2.06.94-2.06 2.06-.94-2.06-.94-.94-2.06-.94 2.06-2.06.94z\"/><path d=\"M17.41 7.96l-1.37-1.37c-.4-.4-.92-.59-1.43-.59-.52 0-1.04.2-1.43.59L10.3 9.45l-7.72 7.72c-.78.78-.78 2.05 0 2.83L4 21.41c.39.39.9.59 1.41.59.51 0 1.02-.2 1.41-.59l7.78-7.78 2.81-2.81c.8-.78.8-2.07 0-2.86zM5.41 20L4 18.59l7.72-7.72 1.47 1.35L5.41 20z\"/>\n",
              "  </svg>\n",
              "      </button>\n",
              "      \n",
              "  <style>\n",
              "    .colab-df-container {\n",
              "      display:flex;\n",
              "      flex-wrap:wrap;\n",
              "      gap: 12px;\n",
              "    }\n",
              "\n",
              "    .colab-df-convert {\n",
              "      background-color: #E8F0FE;\n",
              "      border: none;\n",
              "      border-radius: 50%;\n",
              "      cursor: pointer;\n",
              "      display: none;\n",
              "      fill: #1967D2;\n",
              "      height: 32px;\n",
              "      padding: 0 0 0 0;\n",
              "      width: 32px;\n",
              "    }\n",
              "\n",
              "    .colab-df-convert:hover {\n",
              "      background-color: #E2EBFA;\n",
              "      box-shadow: 0px 1px 2px rgba(60, 64, 67, 0.3), 0px 1px 3px 1px rgba(60, 64, 67, 0.15);\n",
              "      fill: #174EA6;\n",
              "    }\n",
              "\n",
              "    [theme=dark] .colab-df-convert {\n",
              "      background-color: #3B4455;\n",
              "      fill: #D2E3FC;\n",
              "    }\n",
              "\n",
              "    [theme=dark] .colab-df-convert:hover {\n",
              "      background-color: #434B5C;\n",
              "      box-shadow: 0px 1px 3px 1px rgba(0, 0, 0, 0.15);\n",
              "      filter: drop-shadow(0px 1px 2px rgba(0, 0, 0, 0.3));\n",
              "      fill: #FFFFFF;\n",
              "    }\n",
              "  </style>\n",
              "\n",
              "      <script>\n",
              "        const buttonEl =\n",
              "          document.querySelector('#df-200a2e45-d03d-4de8-a249-90890652572e button.colab-df-convert');\n",
              "        buttonEl.style.display =\n",
              "          google.colab.kernel.accessAllowed ? 'block' : 'none';\n",
              "\n",
              "        async function convertToInteractive(key) {\n",
              "          const element = document.querySelector('#df-200a2e45-d03d-4de8-a249-90890652572e');\n",
              "          const dataTable =\n",
              "            await google.colab.kernel.invokeFunction('convertToInteractive',\n",
              "                                                     [key], {});\n",
              "          if (!dataTable) return;\n",
              "\n",
              "          const docLinkHtml = 'Like what you see? Visit the ' +\n",
              "            '<a target=\"_blank\" href=https://colab.research.google.com/notebooks/data_table.ipynb>data table notebook</a>'\n",
              "            + ' to learn more about interactive tables.';\n",
              "          element.innerHTML = '';\n",
              "          dataTable['output_type'] = 'display_data';\n",
              "          await google.colab.output.renderOutput(dataTable, element);\n",
              "          const docLink = document.createElement('div');\n",
              "          docLink.innerHTML = docLinkHtml;\n",
              "          element.appendChild(docLink);\n",
              "        }\n",
              "      </script>\n",
              "    </div>\n",
              "  </div>\n",
              "  "
            ],
            "text/plain": [
              "   Carat Weight    Cut Color Clarity Polish Symmetry Report  Price\n",
              "0          1.10  Ideal     H     SI1     VG       EX    GIA   5169\n",
              "1          0.83  Ideal     H     VS1     ID       ID   AGSL   3470"
            ]
          },
          "metadata": {},
          "execution_count": 4
        }
      ]
    },
    {
      "cell_type": "code",
      "source": [
        "#Q3-Check if there is missing value\n",
        "data.isnull().sum()"
      ],
      "metadata": {
        "id": "Km0DpQwUIj7O",
        "outputId": "90b3105e-fc90-45f8-a3e2-e64df5fe3760",
        "colab": {
          "base_uri": "https://localhost:8080/"
        }
      },
      "execution_count": 5,
      "outputs": [
        {
          "output_type": "execute_result",
          "data": {
            "text/plain": [
              "Carat Weight    0\n",
              "Cut             0\n",
              "Color           0\n",
              "Clarity         0\n",
              "Polish          0\n",
              "Symmetry        0\n",
              "Report          0\n",
              "Price           0\n",
              "dtype: int64"
            ]
          },
          "metadata": {},
          "execution_count": 5
        }
      ]
    },
    {
      "cell_type": "code",
      "source": [
        "#Q4- Get data information and number of rows and columns\n",
        "data.info()\n"
      ],
      "metadata": {
        "colab": {
          "base_uri": "https://localhost:8080/"
        },
        "id": "GzdD_OQYlmQ5",
        "outputId": "c2568e15-a979-44bd-91fa-4f766318b5e3"
      },
      "execution_count": 5,
      "outputs": [
        {
          "output_type": "stream",
          "name": "stdout",
          "text": [
            "<class 'pandas.core.frame.DataFrame'>\n",
            "RangeIndex: 6000 entries, 0 to 5999\n",
            "Data columns (total 8 columns):\n",
            " #   Column        Non-Null Count  Dtype  \n",
            "---  ------        --------------  -----  \n",
            " 0   Carat Weight  6000 non-null   float64\n",
            " 1   Cut           6000 non-null   object \n",
            " 2   Color         6000 non-null   object \n",
            " 3   Clarity       6000 non-null   object \n",
            " 4   Polish        6000 non-null   object \n",
            " 5   Symmetry      6000 non-null   object \n",
            " 6   Report        6000 non-null   object \n",
            " 7   Price         6000 non-null   int64  \n",
            "dtypes: float64(1), int64(1), object(6)\n",
            "memory usage: 375.1+ KB\n"
          ]
        }
      ]
    },
    {
      "cell_type": "code",
      "source": [
        "#Q5-Get descriptive statistics of data\n",
        "data.describe()\n"
      ],
      "metadata": {
        "colab": {
          "base_uri": "https://localhost:8080/",
          "height": 297
        },
        "id": "qdmnS0TlmE8U",
        "outputId": "4bf25913-2f97-4840-a506-04fc8c00e36b"
      },
      "execution_count": 6,
      "outputs": [
        {
          "output_type": "execute_result",
          "data": {
            "text/html": [
              "\n",
              "  <div id=\"df-dd2c5a2a-22c3-4bf2-ac2e-a95a1df6da85\">\n",
              "    <div class=\"colab-df-container\">\n",
              "      <div>\n",
              "<style scoped>\n",
              "    .dataframe tbody tr th:only-of-type {\n",
              "        vertical-align: middle;\n",
              "    }\n",
              "\n",
              "    .dataframe tbody tr th {\n",
              "        vertical-align: top;\n",
              "    }\n",
              "\n",
              "    .dataframe thead th {\n",
              "        text-align: right;\n",
              "    }\n",
              "</style>\n",
              "<table border=\"1\" class=\"dataframe\">\n",
              "  <thead>\n",
              "    <tr style=\"text-align: right;\">\n",
              "      <th></th>\n",
              "      <th>Carat Weight</th>\n",
              "      <th>Price</th>\n",
              "    </tr>\n",
              "  </thead>\n",
              "  <tbody>\n",
              "    <tr>\n",
              "      <th>count</th>\n",
              "      <td>6000.000000</td>\n",
              "      <td>6000.000000</td>\n",
              "    </tr>\n",
              "    <tr>\n",
              "      <th>mean</th>\n",
              "      <td>1.334520</td>\n",
              "      <td>11791.579333</td>\n",
              "    </tr>\n",
              "    <tr>\n",
              "      <th>std</th>\n",
              "      <td>0.475696</td>\n",
              "      <td>10184.350051</td>\n",
              "    </tr>\n",
              "    <tr>\n",
              "      <th>min</th>\n",
              "      <td>0.750000</td>\n",
              "      <td>2184.000000</td>\n",
              "    </tr>\n",
              "    <tr>\n",
              "      <th>25%</th>\n",
              "      <td>1.000000</td>\n",
              "      <td>5150.500000</td>\n",
              "    </tr>\n",
              "    <tr>\n",
              "      <th>50%</th>\n",
              "      <td>1.130000</td>\n",
              "      <td>7857.000000</td>\n",
              "    </tr>\n",
              "    <tr>\n",
              "      <th>75%</th>\n",
              "      <td>1.590000</td>\n",
              "      <td>15036.500000</td>\n",
              "    </tr>\n",
              "    <tr>\n",
              "      <th>max</th>\n",
              "      <td>2.910000</td>\n",
              "      <td>101561.000000</td>\n",
              "    </tr>\n",
              "  </tbody>\n",
              "</table>\n",
              "</div>\n",
              "      <button class=\"colab-df-convert\" onclick=\"convertToInteractive('df-dd2c5a2a-22c3-4bf2-ac2e-a95a1df6da85')\"\n",
              "              title=\"Convert this dataframe to an interactive table.\"\n",
              "              style=\"display:none;\">\n",
              "        \n",
              "  <svg xmlns=\"http://www.w3.org/2000/svg\" height=\"24px\"viewBox=\"0 0 24 24\"\n",
              "       width=\"24px\">\n",
              "    <path d=\"M0 0h24v24H0V0z\" fill=\"none\"/>\n",
              "    <path d=\"M18.56 5.44l.94 2.06.94-2.06 2.06-.94-2.06-.94-.94-2.06-.94 2.06-2.06.94zm-11 1L8.5 8.5l.94-2.06 2.06-.94-2.06-.94L8.5 2.5l-.94 2.06-2.06.94zm10 10l.94 2.06.94-2.06 2.06-.94-2.06-.94-.94-2.06-.94 2.06-2.06.94z\"/><path d=\"M17.41 7.96l-1.37-1.37c-.4-.4-.92-.59-1.43-.59-.52 0-1.04.2-1.43.59L10.3 9.45l-7.72 7.72c-.78.78-.78 2.05 0 2.83L4 21.41c.39.39.9.59 1.41.59.51 0 1.02-.2 1.41-.59l7.78-7.78 2.81-2.81c.8-.78.8-2.07 0-2.86zM5.41 20L4 18.59l7.72-7.72 1.47 1.35L5.41 20z\"/>\n",
              "  </svg>\n",
              "      </button>\n",
              "      \n",
              "  <style>\n",
              "    .colab-df-container {\n",
              "      display:flex;\n",
              "      flex-wrap:wrap;\n",
              "      gap: 12px;\n",
              "    }\n",
              "\n",
              "    .colab-df-convert {\n",
              "      background-color: #E8F0FE;\n",
              "      border: none;\n",
              "      border-radius: 50%;\n",
              "      cursor: pointer;\n",
              "      display: none;\n",
              "      fill: #1967D2;\n",
              "      height: 32px;\n",
              "      padding: 0 0 0 0;\n",
              "      width: 32px;\n",
              "    }\n",
              "\n",
              "    .colab-df-convert:hover {\n",
              "      background-color: #E2EBFA;\n",
              "      box-shadow: 0px 1px 2px rgba(60, 64, 67, 0.3), 0px 1px 3px 1px rgba(60, 64, 67, 0.15);\n",
              "      fill: #174EA6;\n",
              "    }\n",
              "\n",
              "    [theme=dark] .colab-df-convert {\n",
              "      background-color: #3B4455;\n",
              "      fill: #D2E3FC;\n",
              "    }\n",
              "\n",
              "    [theme=dark] .colab-df-convert:hover {\n",
              "      background-color: #434B5C;\n",
              "      box-shadow: 0px 1px 3px 1px rgba(0, 0, 0, 0.15);\n",
              "      filter: drop-shadow(0px 1px 2px rgba(0, 0, 0, 0.3));\n",
              "      fill: #FFFFFF;\n",
              "    }\n",
              "  </style>\n",
              "\n",
              "      <script>\n",
              "        const buttonEl =\n",
              "          document.querySelector('#df-dd2c5a2a-22c3-4bf2-ac2e-a95a1df6da85 button.colab-df-convert');\n",
              "        buttonEl.style.display =\n",
              "          google.colab.kernel.accessAllowed ? 'block' : 'none';\n",
              "\n",
              "        async function convertToInteractive(key) {\n",
              "          const element = document.querySelector('#df-dd2c5a2a-22c3-4bf2-ac2e-a95a1df6da85');\n",
              "          const dataTable =\n",
              "            await google.colab.kernel.invokeFunction('convertToInteractive',\n",
              "                                                     [key], {});\n",
              "          if (!dataTable) return;\n",
              "\n",
              "          const docLinkHtml = 'Like what you see? Visit the ' +\n",
              "            '<a target=\"_blank\" href=https://colab.research.google.com/notebooks/data_table.ipynb>data table notebook</a>'\n",
              "            + ' to learn more about interactive tables.';\n",
              "          element.innerHTML = '';\n",
              "          dataTable['output_type'] = 'display_data';\n",
              "          await google.colab.output.renderOutput(dataTable, element);\n",
              "          const docLink = document.createElement('div');\n",
              "          docLink.innerHTML = docLinkHtml;\n",
              "          element.appendChild(docLink);\n",
              "        }\n",
              "      </script>\n",
              "    </div>\n",
              "  </div>\n",
              "  "
            ],
            "text/plain": [
              "       Carat Weight          Price\n",
              "count   6000.000000    6000.000000\n",
              "mean       1.334520   11791.579333\n",
              "std        0.475696   10184.350051\n",
              "min        0.750000    2184.000000\n",
              "25%        1.000000    5150.500000\n",
              "50%        1.130000    7857.000000\n",
              "75%        1.590000   15036.500000\n",
              "max        2.910000  101561.000000"
            ]
          },
          "metadata": {},
          "execution_count": 6
        }
      ]
    },
    {
      "cell_type": "code",
      "source": [
        "#Q6-Use seasoborns heat map to generate following heatmap\n",
        "# annot = True to print the correlation inside the square\n",
        "sns.heatmap(data.corr(),annot=True)"
      ],
      "metadata": {
        "colab": {
          "base_uri": "https://localhost:8080/",
          "height": 286
        },
        "id": "FfK17cCgXW0t",
        "outputId": "1d246025-a3b7-4dac-c42b-e65b27dac889"
      },
      "execution_count": 12,
      "outputs": [
        {
          "output_type": "execute_result",
          "data": {
            "text/plain": [
              "<matplotlib.axes._subplots.AxesSubplot at 0x7facc8663150>"
            ]
          },
          "metadata": {},
          "execution_count": 12
        },
        {
          "output_type": "display_data",
          "data": {
            "image/png": "[encoded data removed]",
            "text/plain": [
              "<Figure size 432x288 with 2 Axes>"
            ]
          },
          "metadata": {
            "needs_background": "light"
          }
        }
      ]
    },
    {
      "cell_type": "code",
      "source": [
        "#Q7-Use seasoborns paiplot to generate following  diagram\n",
        "sns.pairplot(data)"
      ],
      "metadata": {
        "id": "DRsXK5YSJchH",
        "outputId": "4ad12ee9-53de-497a-9040-93f1e5d38837",
        "colab": {
          "base_uri": "https://localhost:8080/",
          "height": 391
        }
      },
      "execution_count": 13,
      "outputs": [
        {
          "output_type": "execute_result",
          "data": {
            "text/plain": [
              "<seaborn.axisgrid.PairGrid at 0x7facc81d9890>"
            ]
          },
          "metadata": {},
          "execution_count": 13
        },
        {
          "output_type": "display_data",
          "data": {
            "image/png": "[encoded data removed]",
            "text/plain": [
              "<Figure size 360x360 with 6 Axes>"
            ]
          },
          "metadata": {
            "needs_background": "light"
          }
        }
      ]
    },
    {
      "cell_type": "code",
      "source": [
        "#Q8-Divide the data so that get Price as ouput variable (Y) and other variables as input varable (X)\n",
        "y=data.Price\n",
        "x=data.drop(\"Price\", axis=1)\n",
        "y\n"
      ],
      "metadata": {
        "id": "uaRkCQVMOO6J",
        "outputId": "6ea5ac4e-9396-4380-82e0-958805738450",
        "colab": {
          "base_uri": "https://localhost:8080/"
        }
      },
      "execution_count": 14,
      "outputs": [
        {
          "output_type": "execute_result",
          "data": {
            "text/plain": [
              "0        5169\n",
              "1        3470\n",
              "2        3183\n",
              "3        4370\n",
              "4        3171\n",
              "        ...  \n",
              "5995     6250\n",
              "5996     5328\n",
              "5997     6157\n",
              "5998    11206\n",
              "5999    30507\n",
              "Name: Price, Length: 6000, dtype: int64"
            ]
          },
          "metadata": {},
          "execution_count": 14
        }
      ]
    },
    {
      "cell_type": "code",
      "source": [
        "#Q9-Create dummy for the input variables (X)\n",
        "x = pd.get_dummies(x, drop_first=True)\n",
        "from sklearn.linear_model import LinearRegression\n",
        "from sklearn.model_selection import train_test_split\n"
      ],
      "metadata": {
        "id": "yOnzVDOaOr7Q"
      },
      "execution_count": 17,
      "outputs": []
    },
    {
      "cell_type": "code",
      "source": [
        "#Q10 -Split the input and output data into two parts: test data (20%) and train data(%80)\n",
        "x_train, x_test, y_train, y_test = train_test_split(x, y, test_size=0.2)\n",
        "x_train\n"
      ],
      "metadata": {
        "id": "tF8NMbxaO3BQ",
        "outputId": "8da9a05d-c8e3-4f7c-d5d4-fb9755208529",
        "colab": {
          "base_uri": "https://localhost:8080/",
          "height": 488
        }
      },
      "execution_count": 18,
      "outputs": [
        {
          "output_type": "execute_result",
          "data": {
            "text/html": [
              "\n",
              "  <div id=\"df-b1d6fc79-5f4c-4b3d-83b0-e001a31c1701\">\n",
              "    <div class=\"colab-df-container\">\n",
              "      <div>\n",
              "<style scoped>\n",
              "    .dataframe tbody tr th:only-of-type {\n",
              "        vertical-align: middle;\n",
              "    }\n",
              "\n",
              "    .dataframe tbody tr th {\n",
              "        vertical-align: top;\n",
              "    }\n",
              "\n",
              "    .dataframe thead th {\n",
              "        text-align: right;\n",
              "    }\n",
              "</style>\n",
              "<table border=\"1\" class=\"dataframe\">\n",
              "  <thead>\n",
              "    <tr style=\"text-align: right;\">\n",
              "      <th></th>\n",
              "      <th>Carat Weight</th>\n",
              "      <th>Cut_Good</th>\n",
              "      <th>Cut_Ideal</th>\n",
              "      <th>Cut_Signature-Ideal</th>\n",
              "      <th>Cut_Very Good</th>\n",
              "      <th>Color_E</th>\n",
              "      <th>Color_F</th>\n",
              "      <th>Color_G</th>\n",
              "      <th>Color_H</th>\n",
              "      <th>Color_I</th>\n",
              "      <th>...</th>\n",
              "      <th>Clarity_VS2</th>\n",
              "      <th>Clarity_VVS1</th>\n",
              "      <th>Clarity_VVS2</th>\n",
              "      <th>Polish_G</th>\n",
              "      <th>Polish_ID</th>\n",
              "      <th>Polish_VG</th>\n",
              "      <th>Symmetry_G</th>\n",
              "      <th>Symmetry_ID</th>\n",
              "      <th>Symmetry_VG</th>\n",
              "      <th>Report_GIA</th>\n",
              "    </tr>\n",
              "  </thead>\n",
              "  <tbody>\n",
              "    <tr>\n",
              "      <th>5148</th>\n",
              "      <td>1.03</td>\n",
              "      <td>0</td>\n",
              "      <td>1</td>\n",
              "      <td>0</td>\n",
              "      <td>0</td>\n",
              "      <td>0</td>\n",
              "      <td>0</td>\n",
              "      <td>1</td>\n",
              "      <td>0</td>\n",
              "      <td>0</td>\n",
              "      <td>...</td>\n",
              "      <td>0</td>\n",
              "      <td>0</td>\n",
              "      <td>0</td>\n",
              "      <td>0</td>\n",
              "      <td>0</td>\n",
              "      <td>1</td>\n",
              "      <td>0</td>\n",
              "      <td>0</td>\n",
              "      <td>1</td>\n",
              "      <td>1</td>\n",
              "    </tr>\n",
              "    <tr>\n",
              "      <th>3404</th>\n",
              "      <td>2.15</td>\n",
              "      <td>0</td>\n",
              "      <td>0</td>\n",
              "      <td>0</td>\n",
              "      <td>1</td>\n",
              "      <td>0</td>\n",
              "      <td>1</td>\n",
              "      <td>0</td>\n",
              "      <td>0</td>\n",
              "      <td>0</td>\n",
              "      <td>...</td>\n",
              "      <td>0</td>\n",
              "      <td>0</td>\n",
              "      <td>0</td>\n",
              "      <td>0</td>\n",
              "      <td>0</td>\n",
              "      <td>1</td>\n",
              "      <td>0</td>\n",
              "      <td>0</td>\n",
              "      <td>1</td>\n",
              "      <td>1</td>\n",
              "    </tr>\n",
              "    <tr>\n",
              "      <th>3203</th>\n",
              "      <td>0.76</td>\n",
              "      <td>0</td>\n",
              "      <td>0</td>\n",
              "      <td>0</td>\n",
              "      <td>1</td>\n",
              "      <td>0</td>\n",
              "      <td>0</td>\n",
              "      <td>0</td>\n",
              "      <td>0</td>\n",
              "      <td>1</td>\n",
              "      <td>...</td>\n",
              "      <td>1</td>\n",
              "      <td>0</td>\n",
              "      <td>0</td>\n",
              "      <td>0</td>\n",
              "      <td>0</td>\n",
              "      <td>0</td>\n",
              "      <td>0</td>\n",
              "      <td>0</td>\n",
              "      <td>0</td>\n",
              "      <td>1</td>\n",
              "    </tr>\n",
              "    <tr>\n",
              "      <th>4084</th>\n",
              "      <td>1.26</td>\n",
              "      <td>0</td>\n",
              "      <td>0</td>\n",
              "      <td>0</td>\n",
              "      <td>1</td>\n",
              "      <td>0</td>\n",
              "      <td>0</td>\n",
              "      <td>0</td>\n",
              "      <td>1</td>\n",
              "      <td>0</td>\n",
              "      <td>...</td>\n",
              "      <td>1</td>\n",
              "      <td>0</td>\n",
              "      <td>0</td>\n",
              "      <td>1</td>\n",
              "      <td>0</td>\n",
              "      <td>0</td>\n",
              "      <td>1</td>\n",
              "      <td>0</td>\n",
              "      <td>0</td>\n",
              "      <td>1</td>\n",
              "    </tr>\n",
              "    <tr>\n",
              "      <th>2907</th>\n",
              "      <td>2.32</td>\n",
              "      <td>0</td>\n",
              "      <td>0</td>\n",
              "      <td>0</td>\n",
              "      <td>1</td>\n",
              "      <td>0</td>\n",
              "      <td>0</td>\n",
              "      <td>1</td>\n",
              "      <td>0</td>\n",
              "      <td>0</td>\n",
              "      <td>...</td>\n",
              "      <td>1</td>\n",
              "      <td>0</td>\n",
              "      <td>0</td>\n",
              "      <td>0</td>\n",
              "      <td>0</td>\n",
              "      <td>0</td>\n",
              "      <td>0</td>\n",
              "      <td>0</td>\n",
              "      <td>0</td>\n",
              "      <td>1</td>\n",
              "    </tr>\n",
              "    <tr>\n",
              "      <th>...</th>\n",
              "      <td>...</td>\n",
              "      <td>...</td>\n",
              "      <td>...</td>\n",
              "      <td>...</td>\n",
              "      <td>...</td>\n",
              "      <td>...</td>\n",
              "      <td>...</td>\n",
              "      <td>...</td>\n",
              "      <td>...</td>\n",
              "      <td>...</td>\n",
              "      <td>...</td>\n",
              "      <td>...</td>\n",
              "      <td>...</td>\n",
              "      <td>...</td>\n",
              "      <td>...</td>\n",
              "      <td>...</td>\n",
              "      <td>...</td>\n",
              "      <td>...</td>\n",
              "      <td>...</td>\n",
              "      <td>...</td>\n",
              "      <td>...</td>\n",
              "    </tr>\n",
              "    <tr>\n",
              "      <th>1559</th>\n",
              "      <td>1.04</td>\n",
              "      <td>0</td>\n",
              "      <td>1</td>\n",
              "      <td>0</td>\n",
              "      <td>0</td>\n",
              "      <td>0</td>\n",
              "      <td>0</td>\n",
              "      <td>0</td>\n",
              "      <td>1</td>\n",
              "      <td>0</td>\n",
              "      <td>...</td>\n",
              "      <td>0</td>\n",
              "      <td>0</td>\n",
              "      <td>0</td>\n",
              "      <td>0</td>\n",
              "      <td>0</td>\n",
              "      <td>0</td>\n",
              "      <td>0</td>\n",
              "      <td>0</td>\n",
              "      <td>0</td>\n",
              "      <td>1</td>\n",
              "    </tr>\n",
              "    <tr>\n",
              "      <th>3017</th>\n",
              "      <td>1.62</td>\n",
              "      <td>0</td>\n",
              "      <td>0</td>\n",
              "      <td>0</td>\n",
              "      <td>1</td>\n",
              "      <td>0</td>\n",
              "      <td>0</td>\n",
              "      <td>0</td>\n",
              "      <td>1</td>\n",
              "      <td>0</td>\n",
              "      <td>...</td>\n",
              "      <td>0</td>\n",
              "      <td>0</td>\n",
              "      <td>0</td>\n",
              "      <td>0</td>\n",
              "      <td>0</td>\n",
              "      <td>1</td>\n",
              "      <td>1</td>\n",
              "      <td>0</td>\n",
              "      <td>0</td>\n",
              "      <td>1</td>\n",
              "    </tr>\n",
              "    <tr>\n",
              "      <th>3405</th>\n",
              "      <td>0.90</td>\n",
              "      <td>1</td>\n",
              "      <td>0</td>\n",
              "      <td>0</td>\n",
              "      <td>0</td>\n",
              "      <td>0</td>\n",
              "      <td>0</td>\n",
              "      <td>1</td>\n",
              "      <td>0</td>\n",
              "      <td>0</td>\n",
              "      <td>...</td>\n",
              "      <td>0</td>\n",
              "      <td>0</td>\n",
              "      <td>0</td>\n",
              "      <td>0</td>\n",
              "      <td>0</td>\n",
              "      <td>1</td>\n",
              "      <td>0</td>\n",
              "      <td>0</td>\n",
              "      <td>1</td>\n",
              "      <td>1</td>\n",
              "    </tr>\n",
              "    <tr>\n",
              "      <th>3558</th>\n",
              "      <td>2.45</td>\n",
              "      <td>1</td>\n",
              "      <td>0</td>\n",
              "      <td>0</td>\n",
              "      <td>0</td>\n",
              "      <td>0</td>\n",
              "      <td>0</td>\n",
              "      <td>1</td>\n",
              "      <td>0</td>\n",
              "      <td>0</td>\n",
              "      <td>...</td>\n",
              "      <td>1</td>\n",
              "      <td>0</td>\n",
              "      <td>0</td>\n",
              "      <td>1</td>\n",
              "      <td>0</td>\n",
              "      <td>0</td>\n",
              "      <td>0</td>\n",
              "      <td>0</td>\n",
              "      <td>1</td>\n",
              "      <td>1</td>\n",
              "    </tr>\n",
              "    <tr>\n",
              "      <th>64</th>\n",
              "      <td>1.02</td>\n",
              "      <td>0</td>\n",
              "      <td>0</td>\n",
              "      <td>0</td>\n",
              "      <td>1</td>\n",
              "      <td>0</td>\n",
              "      <td>0</td>\n",
              "      <td>0</td>\n",
              "      <td>0</td>\n",
              "      <td>0</td>\n",
              "      <td>...</td>\n",
              "      <td>0</td>\n",
              "      <td>0</td>\n",
              "      <td>0</td>\n",
              "      <td>1</td>\n",
              "      <td>0</td>\n",
              "      <td>0</td>\n",
              "      <td>0</td>\n",
              "      <td>0</td>\n",
              "      <td>1</td>\n",
              "      <td>1</td>\n",
              "    </tr>\n",
              "  </tbody>\n",
              "</table>\n",
              "<p>4800 rows × 23 columns</p>\n",
              "</div>\n",
              "      <button class=\"colab-df-convert\" onclick=\"convertToInteractive('df-b1d6fc79-5f4c-4b3d-83b0-e001a31c1701')\"\n",
              "              title=\"Convert this dataframe to an interactive table.\"\n",
              "              style=\"display:none;\">\n",
              "        \n",
              "  <svg xmlns=\"http://www.w3.org/2000/svg\" height=\"24px\"viewBox=\"0 0 24 24\"\n",
              "       width=\"24px\">\n",
              "    <path d=\"M0 0h24v24H0V0z\" fill=\"none\"/>\n",
              "    <path d=\"M18.56 5.44l.94 2.06.94-2.06 2.06-.94-2.06-.94-.94-2.06-.94 2.06-2.06.94zm-11 1L8.5 8.5l.94-2.06 2.06-.94-2.06-.94L8.5 2.5l-.94 2.06-2.06.94zm10 10l.94 2.06.94-2.06 2.06-.94-2.06-.94-.94-2.06-.94 2.06-2.06.94z\"/><path d=\"M17.41 7.96l-1.37-1.37c-.4-.4-.92-.59-1.43-.59-.52 0-1.04.2-1.43.59L10.3 9.45l-7.72 7.72c-.78.78-.78 2.05 0 2.83L4 21.41c.39.39.9.59 1.41.59.51 0 1.02-.2 1.41-.59l7.78-7.78 2.81-2.81c.8-.78.8-2.07 0-2.86zM5.41 20L4 18.59l7.72-7.72 1.47 1.35L5.41 20z\"/>\n",
              "  </svg>\n",
              "      </button>\n",
              "      \n",
              "  <style>\n",
              "    .colab-df-container {\n",
              "      display:flex;\n",
              "      flex-wrap:wrap;\n",
              "      gap: 12px;\n",
              "    }\n",
              "\n",
              "    .colab-df-convert {\n",
              "      background-color: #E8F0FE;\n",
              "      border: none;\n",
              "      border-radius: 50%;\n",
              "      cursor: pointer;\n",
              "      display: none;\n",
              "      fill: #1967D2;\n",
              "      height: 32px;\n",
              "      padding: 0 0 0 0;\n",
              "      width: 32px;\n",
              "    }\n",
              "\n",
              "    .colab-df-convert:hover {\n",
              "      background-color: #E2EBFA;\n",
              "      box-shadow: 0px 1px 2px rgba(60, 64, 67, 0.3), 0px 1px 3px 1px rgba(60, 64, 67, 0.15);\n",
              "      fill: #174EA6;\n",
              "    }\n",
              "\n",
              "    [theme=dark] .colab-df-convert {\n",
              "      background-color: #3B4455;\n",
              "      fill: #D2E3FC;\n",
              "    }\n",
              "\n",
              "    [theme=dark] .colab-df-convert:hover {\n",
              "      background-color: #434B5C;\n",
              "      box-shadow: 0px 1px 3px 1px rgba(0, 0, 0, 0.15);\n",
              "      filter: drop-shadow(0px 1px 2px rgba(0, 0, 0, 0.3));\n",
              "      fill: #FFFFFF;\n",
              "    }\n",
              "  </style>\n",
              "\n",
              "      <script>\n",
              "        const buttonEl =\n",
              "          document.querySelector('#df-b1d6fc79-5f4c-4b3d-83b0-e001a31c1701 button.colab-df-convert');\n",
              "        buttonEl.style.display =\n",
              "          google.colab.kernel.accessAllowed ? 'block' : 'none';\n",
              "\n",
              "        async function convertToInteractive(key) {\n",
              "          const element = document.querySelector('#df-b1d6fc79-5f4c-4b3d-83b0-e001a31c1701');\n",
              "          const dataTable =\n",
              "            await google.colab.kernel.invokeFunction('convertToInteractive',\n",
              "                                                     [key], {});\n",
              "          if (!dataTable) return;\n",
              "\n",
              "          const docLinkHtml = 'Like what you see? Visit the ' +\n",
              "            '<a target=\"_blank\" href=https://colab.research.google.com/notebooks/data_table.ipynb>data table notebook</a>'\n",
              "            + ' to learn more about interactive tables.';\n",
              "          element.innerHTML = '';\n",
              "          dataTable['output_type'] = 'display_data';\n",
              "          await google.colab.output.renderOutput(dataTable, element);\n",
              "          const docLink = document.createElement('div');\n",
              "          docLink.innerHTML = docLinkHtml;\n",
              "          element.appendChild(docLink);\n",
              "        }\n",
              "      </script>\n",
              "    </div>\n",
              "  </div>\n",
              "  "
            ],
            "text/plain": [
              "      Carat Weight  Cut_Good  Cut_Ideal  Cut_Signature-Ideal  Cut_Very Good  \\\n",
              "5148          1.03         0          1                    0              0   \n",
              "3404          2.15         0          0                    0              1   \n",
              "3203          0.76         0          0                    0              1   \n",
              "4084          1.26         0          0                    0              1   \n",
              "2907          2.32         0          0                    0              1   \n",
              "...            ...       ...        ...                  ...            ...   \n",
              "1559          1.04         0          1                    0              0   \n",
              "3017          1.62         0          0                    0              1   \n",
              "3405          0.90         1          0                    0              0   \n",
              "3558          2.45         1          0                    0              0   \n",
              "64            1.02         0          0                    0              1   \n",
              "\n",
              "      Color_E  Color_F  Color_G  Color_H  Color_I  ...  Clarity_VS2  \\\n",
              "5148        0        0        1        0        0  ...            0   \n",
              "3404        0        1        0        0        0  ...            0   \n",
              "3203        0        0        0        0        1  ...            1   \n",
              "4084        0        0        0        1        0  ...            1   \n",
              "2907        0        0        1        0        0  ...            1   \n",
              "...       ...      ...      ...      ...      ...  ...          ...   \n",
              "1559        0        0        0        1        0  ...            0   \n",
              "3017        0        0        0        1        0  ...            0   \n",
              "3405        0        0        1        0        0  ...            0   \n",
              "3558        0        0        1        0        0  ...            1   \n",
              "64          0        0        0        0        0  ...            0   \n",
              "\n",
              "      Clarity_VVS1  Clarity_VVS2  Polish_G  Polish_ID  Polish_VG  Symmetry_G  \\\n",
              "5148             0             0         0          0          1           0   \n",
              "3404             0             0         0          0          1           0   \n",
              "3203             0             0         0          0          0           0   \n",
              "4084             0             0         1          0          0           1   \n",
              "2907             0             0         0          0          0           0   \n",
              "...            ...           ...       ...        ...        ...         ...   \n",
              "1559             0             0         0          0          0           0   \n",
              "3017             0             0         0          0          1           1   \n",
              "3405             0             0         0          0          1           0   \n",
              "3558             0             0         1          0          0           0   \n",
              "64               0             0         1          0          0           0   \n",
              "\n",
              "      Symmetry_ID  Symmetry_VG  Report_GIA  \n",
              "5148            0            1           1  \n",
              "3404            0            1           1  \n",
              "3203            0            0           1  \n",
              "4084            0            0           1  \n",
              "2907            0            0           1  \n",
              "...           ...          ...         ...  \n",
              "1559            0            0           1  \n",
              "3017            0            0           1  \n",
              "3405            0            1           1  \n",
              "3558            0            1           1  \n",
              "64              0            1           1  \n",
              "\n",
              "[4800 rows x 23 columns]"
            ]
          },
          "metadata": {},
          "execution_count": 18
        }
      ]
    },
    {
      "cell_type": "code",
      "source": [
        ""
      ],
      "metadata": {
        "id": "rMtQ_dAiRm2C"
      },
      "execution_count": null,
      "outputs": []
    },
    {
      "cell_type": "code",
      "source": [
        "def evalmetric(y,ypred):\n",
        " import numpy as np\n",
        " e = y - ypred \n",
        " mse_f = np.mean(e**2)\n",
        " rmse_f = np.sqrt(mse_f)\n",
        " mae_f = np.mean(abs(e))\n",
        " mape_f = 100*np.mean(abs(e/y))\n",
        " r2_f = 1-(sum(e**2)/sum((y-np.mean(y))**2))\n",
        " print(\"MSE:\", mse_f)\n",
        " print(\"RMSE:\", rmse_f)\n",
        " print(\"MAE:\",mae_f)\n",
        " print(\"MAPE:\",mape_f)\n",
        " print(\"R-Squared:\", r2_f)"
      ],
      "metadata": {
        "id": "dguz6T4nSAGe"
      },
      "execution_count": 20,
      "outputs": []
    },
    {
      "cell_type": "code",
      "source": [
        "#Q11 Use Linear regression to evaluate the performance of test and train data of Linear model  using evalmetric\n",
        "lin_reg = LinearRegression()\n",
        "lin_reg.fit(x_train,y_train)\n",
        "ypred = lin_reg.predict(x)\n",
        "evalmetric(y,ypred)"
      ],
      "metadata": {
        "id": "BgBCwe9gRukQ",
        "outputId": "34c402f9-f43c-4c4f-e610-ad64de0212bf",
        "colab": {
          "base_uri": "https://localhost:8080/"
        }
      },
      "execution_count": 21,
      "outputs": [
        {
          "output_type": "stream",
          "name": "stdout",
          "text": [
            "MSE: 14168904.482877703\n",
            "RMSE: 3764.160528308763\n",
            "MAE: 2404.8826213580664\n",
            "MAPE: 28.076728718695165\n",
            "R-Squared: 0.8633712721684722\n"
          ]
        }
      ]
    },
    {
      "cell_type": "markdown",
      "source": [
        "Q12 -Based on the performance of test and training model, can we say there is overfitting or not in the performace of liner model?"
      ],
      "metadata": {
        "id": "jhUzCvI_SLJF"
      }
    },
    {
      "cell_type": "code",
      "source": [
        "#Q13- Use Lasso regression to evaluate the performance of test and train data   using evalmetric\n",
        "from sklearn.linear_model import Ridge, Lasso,ElasticNet, LassoCV,RidgeCV\n",
        "ridge2 = Ridge()\n",
        "ridge2.fit(x_train, y_train)\n",
        "lasso2 = Lasso()\n",
        "lasso2.fit(x_train, y_train)"
      ],
      "metadata": {
        "id": "VNrzaVlFSeUr",
        "outputId": "38130fe8-c6ab-4228-9f43-3fdbb4b6cda7",
        "colab": {
          "base_uri": "https://localhost:8080/"
        }
      },
      "execution_count": 24,
      "outputs": [
        {
          "output_type": "stream",
          "name": "stderr",
          "text": [
            "/usr/local/lib/python3.7/dist-packages/sklearn/linear_model/_coordinate_descent.py:648: ConvergenceWarning: Objective did not converge. You might want to increase the number of iterations, check the scale of the features or consider increasing regularisation. Duality gap: 1.100e+10, tolerance: 4.853e+07\n",
            "  coef_, l1_reg, l2_reg, X, y, max_iter, tol, rng, random, positive\n"
          ]
        },
        {
          "output_type": "execute_result",
          "data": {
            "text/plain": [
              "Lasso()"
            ]
          },
          "metadata": {},
          "execution_count": 24
        }
      ]
    },
    {
      "cell_type": "code",
      "source": [
        "predL = lasso2.predict(x_train)          \n",
        "evalmetric(y_train,predL)"
      ],
      "metadata": {
        "id": "KJpnbUtQj57C",
        "outputId": "f6868865-6b2d-489c-d55b-ee199674d7cd",
        "colab": {
          "base_uri": "https://localhost:8080/"
        }
      },
      "execution_count": 28,
      "outputs": [
        {
          "output_type": "stream",
          "name": "stdout",
          "text": [
            "MSE: 13327483.227992492\n",
            "RMSE: 3650.6825701493813\n",
            "MAE: 2379.2769718971776\n",
            "MAPE: 28.06387465901411\n",
            "R-Squared: 0.8681748242825157\n"
          ]
        }
      ]
    },
    {
      "cell_type": "code",
      "source": [
        "predL = lasso2.predict(x_test)           \n",
        "evalmetric(y_test,predL)"
      ],
      "metadata": {
        "id": "WEJLmDgSj88N",
        "outputId": "1717c32d-0342-43bc-fe25-2209faac7627",
        "colab": {
          "base_uri": "https://localhost:8080/"
        }
      },
      "execution_count": 29,
      "outputs": [
        {
          "output_type": "stream",
          "name": "stdout",
          "text": [
            "MSE: 17858179.180646673\n",
            "RMSE: 4225.8938913142\n",
            "MAE: 2534.024464263205\n",
            "MAPE: 28.52641458250103\n",
            "R-Squared: 0.8433393096239012\n"
          ]
        }
      ]
    },
    {
      "cell_type": "code",
      "source": [
        "ls=pd.DataFrame({'Predictor': x.columns, 'coefficient':lasso2.coef_})\n",
        "ls.sort_values(by=['coefficient'],ignore_index=True, inplace=True)\n",
        "print(ls)\n",
        "ls.plot()"
      ],
      "metadata": {
        "id": "zJTnzYmukCs0",
        "outputId": "5002cc0a-c7bd-4f59-ff50-2d5bc0d4de49",
        "colab": {
          "base_uri": "https://localhost:8080/",
          "height": 692
        }
      },
      "execution_count": 30,
      "outputs": [
        {
          "output_type": "stream",
          "name": "stdout",
          "text": [
            "              Predictor   coefficient\n",
            "0           Clarity_SI1 -26791.450952\n",
            "1           Clarity_VS2 -25277.535838\n",
            "2           Clarity_VS1 -23955.954165\n",
            "3          Clarity_VVS2 -22361.040411\n",
            "4          Clarity_VVS1 -20861.577935\n",
            "5            Clarity_IF -17181.513397\n",
            "6               Color_I  -7899.905604\n",
            "7               Color_H  -6205.693504\n",
            "8               Color_G  -4571.878201\n",
            "9               Color_F  -2845.363986\n",
            "10              Color_E  -2264.169133\n",
            "11            Polish_ID   -794.690072\n",
            "12           Symmetry_G   -424.934195\n",
            "13          Symmetry_VG   -330.933981\n",
            "14             Cut_Good   -197.324328\n",
            "15            Polish_VG   -180.337996\n",
            "16             Polish_G     27.107448\n",
            "17           Report_GIA     79.878816\n",
            "18          Symmetry_ID     88.441762\n",
            "19        Cut_Very Good     88.767163\n",
            "20            Cut_Ideal    433.845532\n",
            "21  Cut_Signature-Ideal   2116.971204\n",
            "22         Carat Weight  18291.558868\n"
          ]
        },
        {
          "output_type": "execute_result",
          "data": {
            "text/plain": [
              "<matplotlib.axes._subplots.AxesSubplot at 0x7facc4f7c5d0>"
            ]
          },
          "metadata": {},
          "execution_count": 30
        },
        {
          "output_type": "display_data",
          "data": {
            "image/png": "[encoded data removed]",
            "text/plain": [
              "<Figure size 432x288 with 1 Axes>"
            ]
          },
          "metadata": {
            "needs_background": "light"
          }
        }
      ]
    },
    {
      "cell_type": "code",
      "source": [
        "#Q14 Use Ridge regreesionto evaluate the performance of test and train data   using evalmetric\n",
        "predR = ridge2.predict(x_train)           \n",
        "evalmetric(y_train,predR)\n"
      ],
      "metadata": {
        "id": "h55W6wA6Tuww",
        "outputId": "54673bdf-cca2-4e59-cec8-a78aa6a9a346",
        "colab": {
          "base_uri": "https://localhost:8080/"
        }
      },
      "execution_count": 31,
      "outputs": [
        {
          "output_type": "stream",
          "name": "stdout",
          "text": [
            "MSE: 13564513.55967819\n",
            "RMSE: 3683.003334193195\n",
            "MAE: 2389.336190929494\n",
            "MAPE: 28.21587011574947\n",
            "R-Squared: 0.8658303032210138\n"
          ]
        }
      ]
    },
    {
      "cell_type": "code",
      "source": [
        "predR = ridge2.predict(x_test)           \n",
        "evalmetric(y_test,predR)"
      ],
      "metadata": {
        "id": "8HycSKfDkJsm",
        "outputId": "d8f8db20-2669-44d5-a392-20602ead8118",
        "colab": {
          "base_uri": "https://localhost:8080/"
        }
      },
      "execution_count": 32,
      "outputs": [
        {
          "output_type": "stream",
          "name": "stdout",
          "text": [
            "MSE: 17861760.85592489\n",
            "RMSE: 4226.317647305381\n",
            "MAE: 2543.741123534445\n",
            "MAPE: 28.702532245694584\n",
            "R-Squared: 0.8433078894149252\n"
          ]
        }
      ]
    },
    {
      "cell_type": "code",
      "source": [
        "rd=pd.DataFrame({'Predictor': x.columns, 'coefficient':ridge2.coef_})\n",
        "rd.sort_values(by=['coefficient'],ignore_index=True, inplace=True)\n",
        "print(rd)\n",
        "rd.plot()"
      ],
      "metadata": {
        "id": "gJn5-zFZkvQ8",
        "outputId": "1530f706-6f25-48ed-dbfc-53eeb136cc80",
        "colab": {
          "base_uri": "https://localhost:8080/",
          "height": 694
        }
      },
      "execution_count": 33,
      "outputs": [
        {
          "output_type": "stream",
          "name": "stdout",
          "text": [
            "              Predictor   coefficient\n",
            "0           Clarity_SI1 -17124.919740\n",
            "1           Clarity_VS2 -15606.851641\n",
            "2           Clarity_VS1 -14287.441505\n",
            "3          Clarity_VVS2 -12690.536895\n",
            "4          Clarity_VVS1 -11176.810791\n",
            "5               Color_I  -7964.813823\n",
            "6            Clarity_IF  -7514.808650\n",
            "7               Color_H  -6275.726202\n",
            "8               Color_G  -4645.376164\n",
            "9               Color_F  -2917.360709\n",
            "10              Color_E  -2338.383737\n",
            "11            Polish_ID  -1211.762585\n",
            "12           Symmetry_G   -444.736380\n",
            "13          Symmetry_VG   -350.345071\n",
            "14            Polish_VG   -184.732470\n",
            "15             Cut_Good   -148.749645\n",
            "16             Polish_G     44.861044\n",
            "17           Report_GIA    140.338680\n",
            "18        Cut_Very Good    144.992236\n",
            "19            Cut_Ideal    498.762958\n",
            "20          Symmetry_ID    504.500614\n",
            "21  Cut_Signature-Ideal   2296.413033\n",
            "22         Carat Weight  18303.602602\n"
          ]
        },
        {
          "output_type": "execute_result",
          "data": {
            "text/plain": [
              "<matplotlib.axes._subplots.AxesSubplot at 0x7facc4e31750>"
            ]
          },
          "metadata": {},
          "execution_count": 33
        },
        {
          "output_type": "display_data",
          "data": {
            "image/png": "[encoded data removed]",
            "text/plain": [
              "<Figure size 432x288 with 1 Axes>"
            ]
          },
          "metadata": {
            "needs_background": "light"
          }
        }
      ]
    },
    {
      "cell_type": "markdown",
      "source": [
        "Q15- Did you get any improvement on test data using Ridge and Lasso?\n",
        "Explain why? "
      ],
      "metadata": {
        "id": "GwvBE_fgUg02"
      }
    },
    {
      "cell_type": "code",
      "source": [
        ""
      ],
      "metadata": {
        "id": "BlS57Jpzjpjx"
      },
      "execution_count": null,
      "outputs": []
    },
    {
      "cell_type": "code",
      "source": [
        "#Q16-Use Decison Tree Regression to evaluate the performance of test and train data   using evalmetric\n",
        "from sklearn.tree import DecisionTreeRegressor\n",
        "dtr = DecisionTreeRegressor()\n",
        "dtr.fit(x_train,y_train)\n",
        "## Predicting for training data\n",
        "print('Train Data')\n",
        "y_pred = dtr.predict(x_train)\n",
        "evalmetric(y_train,y_pred)\n",
        "print('Test Data')\n",
        "y_pred2 = dtr.predict(x_test)\n",
        "evalmetric(y_test,y_pred2)"
      ],
      "metadata": {
        "id": "d5b6RiZjUeuc",
        "outputId": "e138aee5-737c-4ec9-9e61-04b5afc5a047",
        "colab": {
          "base_uri": "https://localhost:8080/"
        }
      },
      "execution_count": 34,
      "outputs": [
        {
          "output_type": "stream",
          "name": "stdout",
          "text": [
            "Train Data\n",
            "MSE: 86102.99612152769\n",
            "RMSE: 293.43312035543585\n",
            "MAE: 77.59143055555556\n",
            "MAPE: 0.7659835241893904\n",
            "R-Squared: 0.9991483356310153\n",
            "Test Data\n",
            "MSE: 5176237.118344444\n",
            "RMSE: 2275.1345275267668\n",
            "MAE: 974.8165833333335\n",
            "MAPE: 7.369948034869912\n",
            "R-Squared: 0.9545915139327847\n"
          ]
        }
      ]
    },
    {
      "cell_type": "code",
      "source": [
        "#Q17-Use Random Forest to evaluate the performance of test and train data   using evalmetric\n",
        "from sklearn.ensemble import RandomForestRegressor\n",
        "rfr = RandomForestRegressor()\n",
        "rfr.fit(x_train,y_train)\n",
        "## Predicting for training data\n",
        "print('Train Data')\n",
        "y_pred = rfr.predict(x_train)\n",
        "evalmetric(y_train,y_pred)\n",
        "print('Test Data')\n",
        "y_pred2 = rfr.predict(x_test)\n",
        "evalmetric(y_test,y_pred2)"
      ],
      "metadata": {
        "id": "ZEcUQ9fbVJfI",
        "outputId": "7e96ce9a-faf5-4763-a30e-0809c2718123",
        "colab": {
          "base_uri": "https://localhost:8080/"
        }
      },
      "execution_count": 35,
      "outputs": [
        {
          "output_type": "stream",
          "name": "stdout",
          "text": [
            "Train Data\n",
            "MSE: 482576.7397929723\n",
            "RMSE: 694.6774357879866\n",
            "MAE: 309.8075520702566\n",
            "MAPE: 2.4883757820917167\n",
            "R-Squared: 0.9952267234231619\n",
            "Test Data\n",
            "MSE: 2600616.342625778\n",
            "RMSE: 1612.642658069598\n",
            "MAE: 764.4070146232011\n",
            "MAPE: 5.916869187352575\n",
            "R-Squared: 0.9771861202915556\n"
          ]
        }
      ]
    },
    {
      "cell_type": "markdown",
      "source": [
        "Q18-Why Random forest perform better than Decison Tree on test data?"
      ],
      "metadata": {
        "id": "QhddVy3qVis7"
      }
    },
    {
      "cell_type": "markdown",
      "source": [
        "Q19- Which regression technique among Linear Regresssion, Lasso Regression ,Ridge Regression, Decision Tree and Random Forest  provide best performance on test data?\n"
      ],
      "metadata": {
        "id": "nFNRTXZrVUAt"
      }
    }
  ]
}